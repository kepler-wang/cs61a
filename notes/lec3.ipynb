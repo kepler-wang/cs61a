{
 "cells": [
  {
   "cell_type": "code",
   "execution_count": 1,
   "metadata": {},
   "outputs": [
    {
     "name": "stdout",
     "output_type": "stream",
     "text": [
      "1\n",
      "2\n",
      "None None\n"
     ]
    }
   ],
   "source": [
    "print(print(1),print(2))"
   ]
  },
  {
   "attachments": {},
   "cell_type": "markdown",
   "metadata": {},
   "source": [
    "# Lecture 3 Control\n",
    "## Print and None\n",
    "要理解上面这段代码，就要理解 `print` 和 `None`<br>\n",
    "`print` 是个函数，在 Python 中，函数必须要有返回值，而它的返回值就是 `None`，`None`有自己的类型 `NoneType`\n",
    "\n",
    "**None is not _displayed_ by the interpreter as the value of an expression**\n",
    "作为表达式的值， `None` 是不会被解释器显示的，但可以通过 `print` 来打印\n",
    "\n",
    "提到返回值，就要介绍一下 Python 中函数的分类：\n",
    "- 纯函数，仅仅返回一个值\n",
    "- 非纯函数，除返回值外，还有其他副作用\n",
    "\n",
    "在这里， `print` 就是个非纯函数，它会在屏幕上显示出要打印的内容。计算上面这个调用表达式，先算里面的，因此先打印 `1` 和 `2`，它们的值都是 `None`,然后再打印两个 `None`\n",
    "\n",
    "## Multiple Environments\n",
    "参见 Lecture 2 Functions 中 [Defining Functions 部分](lec2.ipynb)，结合 Python Tutor 的操作。实际上，自然语言中需要结合上下文语境来理解含义， Python 中也需要通过环境来计算名称绑定的值。"
   ]
  },
  {
   "cell_type": "code",
   "execution_count": 2,
   "metadata": {},
   "outputs": [
    {
     "data": {
      "text/plain": [
       "256"
      ]
     },
     "execution_count": 2,
     "metadata": {},
     "output_type": "execute_result"
    }
   ],
   "source": [
    "from operator import mul\n",
    "def square(x):\n",
    "    return mul(x, x)\n",
    "\n",
    "square(square(4)) # https://reurl.cc/oZlkqQ"
   ]
  },
  {
   "cell_type": "code",
   "execution_count": 3,
   "metadata": {},
   "outputs": [
    {
     "data": {
      "text/plain": [
       "16"
      ]
     },
     "execution_count": 3,
     "metadata": {},
     "output_type": "execute_result"
    }
   ],
   "source": [
    "from operator import mul\n",
    "def square(square):\n",
    "    return mul(square, square)\n",
    "\n",
    "square(4) # the difference meanings between parameters and function name"
   ]
  },
  {
   "attachments": {},
   "cell_type": "markdown",
   "metadata": {},
   "source": [
    "## Conditional Statements\n",
    "A statement is executed by the interpreter to perform an action\n",
    "前面已经提到了赋值语句，定义语句，语句不同于表达式，它们是没有值的，它们只是执行一个动作。\n",
    "\n",
    "假值：False, 0, '', None\n",
    "真值：除假值外的其它\n",
    "\n",
    "之前只知道真且真为真，假或假为假，并不知道类似 `1 and 2` 这种表达式的值，现在知道了具体计算过程\n",
    "\n",
    "计算 `<left> and <right>`:\n",
    "- `<left>` 真，值为 `<right>`\n",
    "- `<left>` 假，值为 `<left>`\n",
    "\n",
    "计算 `<left> or <right>`:\n",
    "- `<left>` 真，值为 `<left>`\n",
    "- `<left>` 假，值为 `<right>`"
   ]
  },
  {
   "attachments": {},
   "cell_type": "markdown",
   "metadata": {},
   "source": [
    "## Iteration\n",
    "目前为止的迭代都用 `while` 循环来写，暂时不用 `for` 循环，提醒一下自己：\n",
    "\n",
    "**别再写死循环了**"
   ]
  }
 ],
 "metadata": {
  "kernelspec": {
   "display_name": "Python 3",
   "language": "python",
   "name": "python3"
  },
  "language_info": {
   "codemirror_mode": {
    "name": "ipython",
    "version": 3
   },
   "file_extension": ".py",
   "mimetype": "text/x-python",
   "name": "python",
   "nbconvert_exporter": "python",
   "pygments_lexer": "ipython3",
   "version": "3.11.1"
  },
  "orig_nbformat": 4,
  "vscode": {
   "interpreter": {
    "hash": "ead1b95f633dc9c51826328e1846203f51a198c6fb5f2884a80417ba131d4e82"
   }
  }
 },
 "nbformat": 4,
 "nbformat_minor": 2
}
