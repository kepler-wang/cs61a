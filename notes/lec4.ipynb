{
 "cells": [
  {
   "attachments": {},
   "cell_type": "markdown",
   "metadata": {},
   "source": [
    "# Lecture 4 Higher-Order Functions\n",
    "## Iteration Example\n",
    "举了 Fibonacci 数列的例子"
   ]
  },
  {
   "cell_type": "code",
   "execution_count": 8,
   "metadata": {},
   "outputs": [
    {
     "data": {
      "text/plain": [
       "5"
      ]
     },
     "execution_count": 8,
     "metadata": {},
     "output_type": "execute_result"
    }
   ],
   "source": [
    "def fib(n):\n",
    "    pre, cur = 0, 1\n",
    "    k = 1\n",
    "    while k < n:\n",
    "        pre, cur = cur, pre + cur\n",
    "        k = k + 1\n",
    "    return cur\n",
    "\n",
    "fib(5)"
   ]
  },
  {
   "attachments": {},
   "cell_type": "markdown",
   "metadata": {},
   "source": [
    "## Designing Functions\n",
    "类似于数学中的函数，Python 函数的三个特征：\n",
    "- 定义域：可作为参数的输入集合\n",
    "- 值域：可作为返回值的输出集合\n",
    "- （纯函数）行为：输入输出间的关系\n",
    "\n",
    "函数设计指南：\n",
    "- 一个函数只完成一个任务，要的是剪刀而不是瑞士军刀\n",
    "- **Don’t repeat yourself (DRY)**，不要重复造轮子\n",
    "- 定义可广泛使用的函数"
   ]
  },
  {
   "attachments": {},
   "cell_type": "markdown",
   "metadata": {},
   "source": [
    "## Generalization\n",
    "举了计算图形面积的函数，即函数面积与给定边长（在圆中是半径）的平方成正比，只需要让函数再接收一个形状系数即可计算不同的面积。这里使用的是概括的思想 (Generalizing Patterns with Arguments)，将不同的模型中的共性部分保留，不同的部分概括成一个参数。"
   ]
  },
  {
   "cell_type": "code",
   "execution_count": 9,
   "metadata": {},
   "outputs": [
    {
     "data": {
      "text/plain": [
       "314.1592653589793"
      ]
     },
     "execution_count": 9,
     "metadata": {},
     "output_type": "execute_result"
    }
   ],
   "source": [
    "from math import pi\n",
    "\n",
    "def area(r, shape_constant):\n",
    "    assert r > 0, 'A length must be positive'\n",
    "    return r * r * shape_constant\n",
    "\n",
    "def area_circle(r):\n",
    "    return area(r, pi) # shape_constant = pi\n",
    "\n",
    "area_circle(10)"
   ]
  },
  {
   "attachments": {},
   "cell_type": "markdown",
   "metadata": {},
   "source": [
    "## Higher-Order Functions\n",
    "高阶函数指的是将函数作为参数或者返回值是函数的函数。\n",
    "### Generalizing Over Computational Processes\n",
    "上面提到的概括法，共性的部分不仅仅是一个数，还可以是一个计算过程。如果将计算过程提炼出来，那作为参数的就是一个函数了。下面的 `summation` 函数就是一个高阶函数，其中 `n` 是计算的项数，`term` 接收一个函数作为参数，即累加项的表达式。"
   ]
  },
  {
   "cell_type": "code",
   "execution_count": 10,
   "metadata": {},
   "outputs": [
    {
     "data": {
      "text/plain": [
       "3.141592153589902"
      ]
     },
     "execution_count": 10,
     "metadata": {},
     "output_type": "execute_result"
    }
   ],
   "source": [
    "def summation(n, term):\n",
    "    \"\"\"Sum the first N terms of a sequence.\n",
    "\n",
    "    >>> summation(5, cube)\n",
    "    225\n",
    "    \"\"\"\n",
    "    total, k = 0, 1\n",
    "    while k <= n:\n",
    "        total, k = total + term(k), k + 1\n",
    "    return total\n",
    "\n",
    "from operator import mul\n",
    "\n",
    "def pi_term(k):\n",
    "    return 8 / mul(k * 4 - 3, k * 4 - 1)\n",
    "\n",
    "summation(1000000, pi_term)"
   ]
  },
  {
   "attachments": {},
   "cell_type": "markdown",
   "metadata": {},
   "source": [
    "## Functions as Return Values\n",
    "另一种高阶函数就是返回值是函数的函数。"
   ]
  },
  {
   "cell_type": "code",
   "execution_count": 11,
   "metadata": {},
   "outputs": [
    {
     "data": {
      "text/plain": [
       "2020"
      ]
     },
     "execution_count": 11,
     "metadata": {},
     "output_type": "execute_result"
    }
   ],
   "source": [
    "def make_adder(n):\n",
    "    \"\"\"Return a function that takes one argument K and returns K + N.\n",
    "\n",
    "    >>> add_three = make_adder(3)\n",
    "    >>> add_three(4)\n",
    "    7\n",
    "    \"\"\"\n",
    "    def adder(k):\n",
    "        return k + n\n",
    "    return adder\n",
    "\n",
    "make_adder(2000)(20)"
   ]
  },
  {
   "attachments": {},
   "cell_type": "markdown",
   "metadata": {},
   "source": [
    "### Locally Defined Functions\n",
    "在其它函数的函数体内定义的函数，实在一个本地帧中与名称绑定的。即其他环境中有重名的名称，也不影响这一本地函数。\n",
    "\n",
    "### Call Expressions as Operator Expressions\n",
    "调用表达式也可以作为运算符的表达式。如何理解 `make_adder(2000)(20)`:\n",
    "- 根据[嵌套表达式的计算流程](./lec2.ipynb)，先算运算符再算操作数。这个表达式的运算符是 `make_adder(2000)`，作为运算符，它的值是一个函数，同时它也是个调用表达式。\n",
    "- 计算 `make_adder(2000)` 时，运算符的值是 `<function __main__.make_adder(n)>`，即定义在全局帧的函数 `maker_adder`。操作数是 `2000`，并作为参数传入 `make_adder`函数中，返回值为 `<function __main__.make_adder.<locals>.adder(k)>`，即本地函数 `adder`，并注意到此时函数 `adder` 函数体中的 `n` 为 `2000`。\n",
    "- 根据上述两步，表达式转换为 `adder(20)`，运算符为本地函数 `adder`，操作数为 `20`，得到返回值为 `2020`\n",
    "\n",
    "在计算表达式的时候，把握住表达式的计算流程，理解每一部分的值是什么，名称绑定的值是什么，就不会出错。"
   ]
  },
  {
   "cell_type": "code",
   "execution_count": 12,
   "metadata": {},
   "outputs": [
    {
     "data": {
      "text/plain": [
       "<function __main__.make_adder.<locals>.adder(k)>"
      ]
     },
     "execution_count": 12,
     "metadata": {},
     "output_type": "execute_result"
    }
   ],
   "source": [
    "make_adder(2000)"
   ]
  },
  {
   "cell_type": "code",
   "execution_count": 13,
   "metadata": {},
   "outputs": [
    {
     "data": {
      "text/plain": [
       "<function __main__.make_adder(n)>"
      ]
     },
     "execution_count": 13,
     "metadata": {},
     "output_type": "execute_result"
    }
   ],
   "source": [
    "make_adder"
   ]
  },
  {
   "attachments": {},
   "cell_type": "markdown",
   "metadata": {},
   "source": [
    "## Lambda Expressions\n",
    "lambda表达式是一个匿名函数，也就是说不同于之前定义的函数或者内置函数，它没有名字（或者说名字就叫 `<lambda>`），即便绑定了一个名称，它的值依旧是不变的。<br>\n",
    "具体形式为: `lambda <formal parameters>: <expression>`<br>\n",
    "需要注意的是冒号后面就只能有一个表达式，而不能有 `return` 关键字。"
   ]
  },
  {
   "cell_type": "code",
   "execution_count": 14,
   "metadata": {},
   "outputs": [
    {
     "data": {
      "text/plain": [
       "<function __main__.<lambda>(x)>"
      ]
     },
     "execution_count": 14,
     "metadata": {},
     "output_type": "execute_result"
    }
   ],
   "source": [
    "square = lambda x: x * x\n",
    "square"
   ]
  },
  {
   "attachments": {},
   "cell_type": "markdown",
   "metadata": {},
   "source": [
    "## Return\n",
    "`return` 语句完成一个调用表达式的计算并返回值。执行一个函数时，会切换到一个新环境，而 `return` 语句则是会回到原来的环境中，这个表达式也就有了一个值。\n",
    "\n",
    "**执行函数体时，只有一个 `return` 语句会被执行且其被执行后其余部分不会被执行并跳出函数**"
   ]
  },
  {
   "cell_type": "code",
   "execution_count": null,
   "metadata": {},
   "outputs": [],
   "source": [
    "def if_(c, t, f):\n",
    "    if c:\n",
    "        return t\n",
    "    else:\n",
    "        return f\n",
    "\n",
    "from math import sqrt\n",
    "\n",
    "def real_sqrt(x):\n",
    "    \"\"\"Return the real part of the square root of x.\n",
    "\n",
    "    >>> real_sqrt(4)\n",
    "    2.0\n",
    "    >>> real_sqrt(-4)\n",
    "    0.0\n",
    "    \"\"\"\n",
    "    if x > 0:\n",
    "        return sqrt(x)\n",
    "    else:\n",
    "        return 0.0\n",
    "    # if_(x > 0, sqrt(x), 0.0)"
   ]
  },
  {
   "attachments": {},
   "cell_type": "markdown",
   "metadata": {},
   "source": [
    "## Control\n",
    "看似函数 `if_` 实现的功能与 `if-else` 语句一样，但实际应用中却不同。原因在于，对于一个调用表达式，在得到值之前，是需要对运算符和操作数都进行求值；而对于 `if-else` 语句，执行时只会执行 `if` 部分或者 `else` 部分，当其中一个被执行时，其余部分都跳过"
   ]
  },
  {
   "attachments": {},
   "cell_type": "markdown",
   "metadata": {},
   "source": [
    "## Control Expressions\n",
    "条件语句也可以写成表达式的形式：`<consequent> if <predicate> else <alternative>`<br>\n",
    "相当于执行\n",
    "```\n",
    "if <predicate>:\n",
    "    <consequent>\n",
    "else:\n",
    "    <alternative>\n",
    "```\n",
    "\n",
    "即，计算 `<predicate>`，若为真，表达式的值为 `<consequent>` 的值；否则，表达式的值为 `<alternative>` 的值 "
   ]
  },
  {
   "attachments": {},
   "cell_type": "markdown",
   "metadata": {},
   "source": [
    "目前为止，代码的组成部分有这两类：\n",
    "- 表达式（计算值）：调用表达式，lambda表达式，条件表达式\n",
    "- 语句（执行操作）：赋值语句，定义语句，条件语句，返回语句\n",
    "\n",
    "当然还有注释"
   ]
  }
 ],
 "metadata": {
  "kernelspec": {
   "display_name": "Python 3",
   "language": "python",
   "name": "python3"
  },
  "language_info": {
   "codemirror_mode": {
    "name": "ipython",
    "version": 3
   },
   "file_extension": ".py",
   "mimetype": "text/x-python",
   "name": "python",
   "nbconvert_exporter": "python",
   "pygments_lexer": "ipython3",
   "version": "3.10.6"
  },
  "orig_nbformat": 4,
  "vscode": {
   "interpreter": {
    "hash": "916dbcbb3f70747c44a77c7bcd40155683ae19c65e1c03b4aa3499c5328201f1"
   }
  }
 },
 "nbformat": 4,
 "nbformat_minor": 2
}
