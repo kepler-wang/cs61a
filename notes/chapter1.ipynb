{
 "cells": [
  {
   "attachments": {},
   "cell_type": "markdown",
   "metadata": {},
   "source": [
    "# Lecture 1 Computer Science\n",
    "教学大纲，演示了使用 Python 处理 Shakespeare 的剧本"
   ]
  },
  {
   "attachments": {},
   "cell_type": "markdown",
   "metadata": {},
   "source": [
    "# Lecture 2 Functions\n",
    "## Expressions\n",
    "All expressions can use function call notation\n",
    "\n",
    "表达式很重要，理解调用表达式是这一章的基础。调用表达式由运算符 (operator) 和操作数 (operand) 组成，它们本身也是表达式，都能计算出值。这个值不仅仅是数值，也可以是字符串，当然也可以是个函数。<br>\n",
    "调用表达式的计算流程：\n",
    "- 先算运算符再算操作数\n",
    "- 将（运算符的值所指向的）函数应用到（操作数的值所指向的）参数上"
   ]
  },
  {
   "cell_type": "code",
   "execution_count": 1,
   "metadata": {},
   "outputs": [
    {
     "data": {
      "text/plain": [
       "<function _operator.add(a, b, /)>"
      ]
     },
     "execution_count": 1,
     "metadata": {},
     "output_type": "execute_result"
    }
   ],
   "source": [
    "from operator import mul, add \n",
    "add # a value can be a function"
   ]
  },
  {
   "attachments": {},
   "cell_type": "markdown",
   "metadata": {},
   "source": [
    "## Environment Diagrams\n",
    "赋值语句的执行流程：\n",
    "- 从左到右计算 `=` 右边的所有表达式\n",
    "- 在当前帧将 `=` 左边的名称与计算结果绑定\n",
    "\n",
    "Python 中的**帧** (frame)，可以参考计算机组成原理的栈帧，在这里我的理解就是 Python 执行程序时对内存的操作，要建立一块区域来计算，这个区域就是帧\n",
    "\n",
    "Within a frame, a name cannot be repeated\n",
    "\n",
    "一个帧内，名称不能重复；也即在不同帧内可能有一样的名称"
   ]
  },
  {
   "attachments": {},
   "cell_type": "markdown",
   "metadata": {},
   "source": [
    "## Defining Functions\n",
    "定义语句的执行流程：\n",
    "- 创建一个带签名 `<name>(<formal parameters>)` 的函数\n",
    "- 函数体缩进在第一行后面\n",
    "- 在当前帧将 `<name>` 与函数绑定\n",
    "\n",
    "调用函数的执行流程：\n",
    "- 创建本地帧，形成新环境\n",
    "- 在当前帧，将函数的形参与实参绑定\n",
    "- 在新环境中执行函数体\n",
    "\n",
    "\n",
    "其实在 Python Tutor 里也可以看到，定义函数后函数体是直接跳过的，直到调用函数时才会返回去执行\n",
    "\n",
    "### Looking Up Names In Environments\n",
    ">**_Most important two things I’ll say all day:_**<br>\n",
    ">**_An environment is a sequence of frames._**<br>\n",
    ">**_A name evaluates to the value bound to that name in the earliest frame of the current environment in which that name is found._**\n",
    "\n",
    "环境是帧的序列，也就是说帧是个基本单位<br>\n",
    "一个名称对应的值要怎么求？首先在当前环境中找最近的与名称绑定的值，找不到再找全局帧。下面是个例子"
   ]
  },
  {
   "cell_type": "code",
   "execution_count": 2,
   "metadata": {},
   "outputs": [
    {
     "data": {
      "text/plain": [
       "2"
      ]
     },
     "execution_count": 2,
     "metadata": {},
     "output_type": "execute_result"
    }
   ],
   "source": [
    "x = 1\n",
    "def f():\n",
    "    x = 2\n",
    "    return x\n",
    "f() # return 2, in local frame, x = 2"
   ]
  },
  {
   "cell_type": "code",
   "execution_count": 3,
   "metadata": {},
   "outputs": [
    {
     "name": "stdout",
     "output_type": "stream",
     "text": [
      "1\n",
      "2\n",
      "None None\n"
     ]
    }
   ],
   "source": [
    "print(print(1),print(2))"
   ]
  },
  {
   "attachments": {},
   "cell_type": "markdown",
   "metadata": {},
   "source": [
    "# Lecture 3 Control\n",
    "## Print and None\n",
    "要理解上面这段代码，就要理解 `print` 和 `None`<br>\n",
    "`print` 是个函数，在 Python 中，函数必须要有返回值，而它的返回值就是 `None`，`None`有自己的类型 `NoneType`\n",
    "\n",
    "**None is not _displayed_ by the interpreter as the value of an expression**\n",
    "作为表达式的值， `None` 是不会被解释器显示的，但可以通过 `print` 来打印\n",
    "\n",
    "提到返回值，就要介绍一下 Python 中函数的分类：\n",
    "- 纯函数，仅仅返回一个值\n",
    "- 非纯函数，除返回值外，还有其他副作用\n",
    "\n",
    "在这里， `print` 就是个非纯函数，它会在屏幕上显示出要打印的内容。计算上面这个调用表达式，先算里面的，因此先打印 `1` 和 `2`，它们的值都是 `None`,然后再打印两个 `None`\n",
    "\n",
    "## Multiple Environments\n",
    "参见 Lecture 2 Functions 中 <a href=\"#defining-functions\">Defining Functions 部分</a>，结合 Python Tutor 的操作。实际上，自然语言中需要结合上下文语境来理解含义， Python 中也需要通过环境来计算名称绑定的值。"
   ]
  },
  {
   "cell_type": "code",
   "execution_count": 4,
   "metadata": {},
   "outputs": [
    {
     "data": {
      "text/plain": [
       "256"
      ]
     },
     "execution_count": 4,
     "metadata": {},
     "output_type": "execute_result"
    }
   ],
   "source": [
    "from operator import mul\n",
    "def square(x):\n",
    "    return mul(x, x)\n",
    "\n",
    "square(square(4)) # https://reurl.cc/oZlkqQ"
   ]
  },
  {
   "cell_type": "code",
   "execution_count": 5,
   "metadata": {},
   "outputs": [
    {
     "data": {
      "text/plain": [
       "16"
      ]
     },
     "execution_count": 5,
     "metadata": {},
     "output_type": "execute_result"
    }
   ],
   "source": [
    "from operator import mul\n",
    "def square(square):\n",
    "    return mul(square, square)\n",
    "\n",
    "square(4) # the difference meanings between parameters and function name"
   ]
  },
  {
   "attachments": {},
   "cell_type": "markdown",
   "metadata": {},
   "source": [
    "## Conditional Statements\n",
    "A statement is executed by the interpreter to perform an action\n",
    "前面已经提到了赋值语句，定义语句，语句不同于表达式，它们是没有值的，它们只是执行一个动作。\n",
    "\n",
    "假值：False, 0, '', None\n",
    "真值：除假值外的其它\n",
    "\n",
    "之前只知道真且真为真，假或假为假，并不知道类似 `1 and 2` 这种表达式的值，现在知道了具体计算过程\n",
    "\n",
    "计算 `<left> and <right>`:\n",
    "- `<left>` 真，值为 `<right>`\n",
    "- `<left>` 假，值为 `<left>`\n",
    "\n",
    "计算 `<left> or <right>`:\n",
    "- `<left>` 真，值为 `<left>`\n",
    "- `<left>` 假，值为 `<right>`"
   ]
  },
  {
   "attachments": {},
   "cell_type": "markdown",
   "metadata": {},
   "source": [
    "## Iteration\n",
    "目前为止的迭代都用 `while` 循环来写，暂时不用 `for` 循环，提醒一下自己：\n",
    "\n",
    "**别再写死循环了**"
   ]
  }
 ],
 "metadata": {
  "kernelspec": {
   "display_name": "Python 3",
   "language": "python",
   "name": "python3"
  },
  "language_info": {
   "codemirror_mode": {
    "name": "ipython",
    "version": 3
   },
   "file_extension": ".py",
   "mimetype": "text/x-python",
   "name": "python",
   "nbconvert_exporter": "python",
   "pygments_lexer": "ipython3",
   "version": "3.11.1"
  },
  "orig_nbformat": 4,
  "vscode": {
   "interpreter": {
    "hash": "ead1b95f633dc9c51826328e1846203f51a198c6fb5f2884a80417ba131d4e82"
   }
  }
 },
 "nbformat": 4,
 "nbformat_minor": 2
}
